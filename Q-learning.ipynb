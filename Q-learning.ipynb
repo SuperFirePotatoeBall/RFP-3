{
 "cells": [
  {
   "cell_type": "code",
   "execution_count": 64,
   "id": "d4d27463",
   "metadata": {},
   "outputs": [],
   "source": [
    "import gymnasium as gym\n",
    "import random\n",
    "import time"
   ]
  },
  {
   "cell_type": "code",
   "execution_count": 2,
   "id": "bf09c06e",
   "metadata": {},
   "outputs": [],
   "source": [
    "desc=[\"SFFF\", \"FHHH\", \"FFFF\", \"HFHF\", \"FFGF\"]\n",
    "\n",
    "env = gym.make('FrozenLake-v1', desc=desc, map_name=\"5x5\", is_slippery=False)\n",
    "observation, info = env.reset()\n",
    "#step result:\n",
    "#(square, reward, end, idk, idk)"
   ]
  },
  {
   "cell_type": "code",
   "execution_count": null,
   "id": "07829ae2",
   "metadata": {},
   "outputs": [],
   "source": [
    "#panic switch\n",
    "env.close()"
   ]
  },
  {
   "cell_type": "code",
   "execution_count": 3,
   "id": "4000bdde",
   "metadata": {},
   "outputs": [],
   "source": [
    "def create_Q_table():\n",
    "    q_table = {}\n",
    "    # Populate Q-table with zeros for each state-action pair\n",
    "    for i in range(20):\n",
    "        q_table[i] = {0: 0, 1: 0, 2: 0, 3: 0}\n",
    "    return q_table\n",
    "        \n",
    "#L = 0, D = 1, R = 2, U = 3"
   ]
  },
  {
   "cell_type": "code",
   "execution_count": 74,
   "id": "87383ece",
   "metadata": {},
   "outputs": [],
   "source": [
    "#init vars\n",
    "alpha = 0.5 #α\n",
    "gamma = 0.5 #γ\n",
    "epsilon = 0.3 #ε - chance of random\n",
    "episodeMax = 100000\n",
    "num_columns = 4\n",
    "num_rows = 5"
   ]
  },
  {
   "cell_type": "code",
   "execution_count": 5,
   "id": "c9ea5ab2",
   "metadata": {},
   "outputs": [],
   "source": [
    "grid = [[1, 2, 3, 4],\n",
    "        [5, 6, 7, 8],\n",
    "        [9, 10, 11, 12],\n",
    "        [13, 14, 15, 16],\n",
    "        [17, 18, 19, 20]]"
   ]
  },
  {
   "cell_type": "code",
   "execution_count": null,
   "id": "6d540388",
   "metadata": {},
   "outputs": [],
   "source": [
    "#q_table[square][direction] = q_table[square][direction] + alpha * (reward + gamma * my_max(q_table[newSquare]) - q_table[square][direction])"
   ]
  },
  {
   "cell_type": "code",
   "execution_count": null,
   "id": "a10f250d",
   "metadata": {},
   "outputs": [],
   "source": [
    "#(q_table[square][0] == q_table[square][1]) and (q_table[square][2] == q_table[square][3])"
   ]
  },
  {
   "cell_type": "code",
   "execution_count": 6,
   "id": "b859c8b6",
   "metadata": {},
   "outputs": [],
   "source": [
    "def find_row_col(grid, value):\n",
    "    for row_index, row in enumerate(grid):\n",
    "        if value in row:\n",
    "            col_index = row.index(value)\n",
    "            return row_index, col_index"
   ]
  },
  {
   "cell_type": "code",
   "execution_count": 7,
   "id": "825179d5",
   "metadata": {},
   "outputs": [],
   "source": [
    "def my_max(table):\n",
    "    #{0: 0, 1: 0.0, 2: 0.0, 3: 0}\n",
    "    maxNum = table[0]\n",
    "    maxID = 0\n",
    "    for i in range(1,4):\n",
    "        num = table[i]\n",
    "        if(num > maxNum):\n",
    "            maxNum = num\n",
    "            maxID = i\n",
    "    return maxID"
   ]
  },
  {
   "cell_type": "code",
   "execution_count": 11,
   "id": "406777e1",
   "metadata": {},
   "outputs": [],
   "source": [
    "def totalDiff(q_table):\n",
    "    total = 0\n",
    "    for row in q_table.values():\n",
    "        for value in row.values():\n",
    "            total += value\n",
    "    return total"
   ]
  },
  {
   "cell_type": "code",
   "execution_count": 75,
   "id": "5a7aecc7",
   "metadata": {},
   "outputs": [
    {
     "name": "stdout",
     "output_type": "stream",
     "text": [
      "159\n"
     ]
    },
    {
     "data": {
      "text/plain": [
       "{0: {0: 0, 1: 0.028774917125701904, 2: 0.0, 3: 0},\n",
       " 1: {0: 0.0, 1: 0.0, 2: 0.0, 3: 0},\n",
       " 2: {0: 0.0, 1: 0.0, 2: 0.0, 3: 0},\n",
       " 3: {0: 0.0, 1: 0.0, 2: 0, 3: 0},\n",
       " 4: {0: 0, 1: 0.059603214263916016, 2: 0.0, 3: 0.012963414192199707},\n",
       " 5: {0: 0, 1: 0, 2: 0, 3: 0},\n",
       " 6: {0: 0, 1: 0, 2: 0, 3: 0},\n",
       " 7: {0: 0, 1: 0, 2: 0, 3: 0},\n",
       " 8: {0: 0, 1: 0.0, 2: 0.12326955795288086, 3: 0.0},\n",
       " 9: {0: 0.03904247283935547, 1: 0.24914264678955078, 2: 0.0, 3: 0.0},\n",
       " 10: {0: 0, 1: 0, 2: 0.0, 3: 0.0},\n",
       " 11: {0: 0.0, 1: 0.0, 2: 0, 3: 0},\n",
       " 12: {0: 0, 1: 0, 2: 0, 3: 0},\n",
       " 13: {0: 0, 1: 0.4998302459716797, 2: 0.0, 3: 0.05126953125},\n",
       " 14: {0: 0, 1: 0, 2: 0, 3: 0},\n",
       " 15: {0: 0, 1: 0, 2: 0, 3: 0.0},\n",
       " 16: {0: 0, 1: 0, 2: 0, 3: 0},\n",
       " 17: {0: 0, 1: 0, 2: 0.99993896484375, 3: 0.2284832000732422},\n",
       " 18: {0: 0, 1: 0, 2: 0, 3: 0},\n",
       " 19: {0: 0, 1: 0, 2: 0, 3: 0}}"
      ]
     },
     "execution_count": 75,
     "metadata": {},
     "output_type": "execute_result"
    }
   ],
   "source": [
    "q_table = create_Q_table()\n",
    "start_time = time.time()\n",
    "for i in range(episodeMax):#looping through episodes\n",
    "    terminal = False\n",
    "    observation, info = env.reset()\n",
    "    square = 0\n",
    "    total = totalDiff(q_table)\n",
    "    while(not terminal):\n",
    "        allSame = (q_table[square][0] == q_table[square][1]) and (q_table[square][2] == q_table[square][3])\n",
    "        if(random.randint(0, 10) > epsilon * 10 and not allSame): #check if all values are same \n",
    "            direction = my_max(q_table[square])\n",
    "        else:\n",
    "            direction = random.randint(0, 3)\n",
    "        row, col = find_row_col(grid, square+1)  \n",
    "        if(direction == 0 and col == 0):\n",
    "            continue\n",
    "        elif(direction == 1 and row == 4):\n",
    "            continue\n",
    "        elif(direction == 2 and col == 3):\n",
    "            continue\n",
    "        elif(direction == 3 and row == 0):\n",
    "            continue\n",
    "        arr = env.step(direction)\n",
    "        newSquare = arr[0]\n",
    "        reward = arr[1]\n",
    "        newQValue = q_table[square][direction] + alpha * (reward + gamma * q_table[newSquare][my_max(q_table[newSquare])] - q_table[square][direction])\n",
    "        q_table[square][direction] = newQValue\n",
    "        terminal = arr[2]\n",
    "        square = newSquare\n",
    "    newTotal = totalDiff(q_table)\n",
    "    if(abs(newTotal - total) > 0 and abs(newTotal - total)< 0.01):\n",
    "        print(i)\n",
    "        break\n",
    "end_time = time.time()    \n",
    "q_table"
   ]
  },
  {
   "cell_type": "code",
   "execution_count": 76,
   "id": "f1e1cea8",
   "metadata": {},
   "outputs": [
    {
     "name": "stdout",
     "output_type": "stream",
     "text": [
      "Time elapsed: 0.02099919319152832 seconds\n"
     ]
    }
   ],
   "source": [
    "elapsed_time = end_time - start_time\n",
    "print(\"Time elapsed:\", elapsed_time, \"seconds\")"
   ]
  },
  {
   "cell_type": "code",
   "execution_count": 56,
   "id": "f395bc70",
   "metadata": {},
   "outputs": [],
   "source": [
    "env.close()"
   ]
  },
  {
   "cell_type": "code",
   "execution_count": 53,
   "id": "85d41525",
   "metadata": {},
   "outputs": [],
   "source": [
    "envTwo = gym.make('FrozenLake-v1', desc=desc, map_name=\"5x5\", is_slippery=False, render_mode=\"human\")\n",
    "observation, info = envTwo.reset()"
   ]
  },
  {
   "cell_type": "code",
   "execution_count": 61,
   "id": "f674f20c",
   "metadata": {},
   "outputs": [],
   "source": [
    "observation, info = envTwo.reset()\n",
    "terminal = False\n",
    "square = 0\n",
    "while(not terminal):\n",
    "    allSame = (q_table[square][0] == q_table[square][1]) and (q_table[square][2] == q_table[square][3])\n",
    "    if(not allSame): #check if all values are same \n",
    "        direction = my_max(q_table[square])\n",
    "    else:\n",
    "        direction = random.randint(0, 3)\n",
    "    row, col = find_row_col(grid, square+1)  \n",
    "    if(direction == 0 and col == 0):\n",
    "        continue\n",
    "    elif(direction == 1 and row == 4):\n",
    "        continue\n",
    "    elif(direction == 2 and col == 3):\n",
    "        continue\n",
    "    elif(direction == 3 and row == 0):\n",
    "        print(direction == 3 and row == 0) \n",
    "        continue\n",
    "    arr = envTwo.step(direction)\n",
    "    newSquare = arr[0]\n",
    "    reward = arr[1]\n",
    "    terminal = arr[2]\n",
    "    square = newSquare"
   ]
  },
  {
   "cell_type": "code",
   "execution_count": 62,
   "id": "4beea2c4",
   "metadata": {},
   "outputs": [],
   "source": [
    "envTwo.close()"
   ]
  },
  {
   "cell_type": "code",
   "execution_count": null,
   "id": "91b082f7",
   "metadata": {},
   "outputs": [],
   "source": []
  }
 ],
 "metadata": {
  "kernelspec": {
   "display_name": "Python 3 (ipykernel)",
   "language": "python",
   "name": "python3"
  },
  "language_info": {
   "codemirror_mode": {
    "name": "ipython",
    "version": 3
   },
   "file_extension": ".py",
   "mimetype": "text/x-python",
   "name": "python",
   "nbconvert_exporter": "python",
   "pygments_lexer": "ipython3",
   "version": "3.9.13"
  }
 },
 "nbformat": 4,
 "nbformat_minor": 5
}
