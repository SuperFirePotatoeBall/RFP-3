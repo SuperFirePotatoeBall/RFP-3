{
 "cells": [
  {
   "cell_type": "code",
   "execution_count": null,
   "id": "d4d27463",
   "metadata": {},
   "outputs": [],
   "source": [
    "import gymnasium as gym\n",
    "import random"
   ]
  },
  {
   "cell_type": "code",
   "execution_count": null,
   "id": "bf09c06e",
   "metadata": {},
   "outputs": [],
   "source": [
    "desc=[\"SFFF\", \"FHHH\", \"FFFF\", \"HFHF\", \"FFGF\"]\n",
    "\n",
    "env = gym.make('FrozenLake-v1', desc=desc, map_name=\"5x5\", is_slippery=False, render_mode=\"human\")\n",
    "env = TransformReward(env, lambda r: 0.01*r)\n",
    "observation, info = env.reset()\n",
    "#step result:\n",
    "#(square, reward, end, idk, idk)"
   ]
  },
  {
   "cell_type": "code",
   "execution_count": null,
   "id": "27cd5cd9",
   "metadata": {},
   "outputs": [],
   "source": [
    "from gymnasium.envs.toy_text.frozen_lake import FrozenLakeEnv\n",
    "\n",
    "class ModifiedFrozenLakeEnv(FrozenLakeEnv):\n",
    "    def __init__(self, **kwargs):\n",
    "        super(ModifiedFrozenLakeEnv, self).__init__(**kwargs)\n",
    "        # Change the rewards according to your requirement\n",
    "        self.rewards = {'S': -1, 'F': 0, 'H': -10, 'G': 10}\n",
    "        self.reward_range = (-10, 10)\n",
    "\n",
    "    def step(self, action):\n",
    "        state, reward, done, info = super().step(action)\n",
    "        # Modify the reward based on the current state\n",
    "        reward = self.rewards[self.desc[state]]\n",
    "        return state, reward, done, info\n",
    "\n",
    "env = ModifiedFrozenLakeEnv()"
   ]
  },
  {
   "cell_type": "code",
   "execution_count": null,
   "id": "07829ae2",
   "metadata": {},
   "outputs": [],
   "source": [
    "#panic switch\n",
    "env.close()"
   ]
  },
  {
   "cell_type": "code",
   "execution_count": null,
   "id": "4000bdde",
   "metadata": {},
   "outputs": [],
   "source": [
    "def create_Q_table():\n",
    "    q_table = {}\n",
    "    # Populate Q-table with zeros for each state-action pair\n",
    "    for i in range(20):\n",
    "        q_table[i] = {0: 0, 1: 0, 2: 0, 3: 0}\n",
    "    return q_table\n",
    "        \n",
    "#L = 0, D = 1, R = 2, U = 3"
   ]
  },
  {
   "cell_type": "code",
   "execution_count": null,
   "id": "8c48d13f",
   "metadata": {},
   "outputs": [],
   "source": [
    "observation, info = env.reset()"
   ]
  },
  {
   "cell_type": "code",
   "execution_count": null,
   "id": "87383ece",
   "metadata": {},
   "outputs": [],
   "source": [
    "#init vars\n",
    "alpha = 0.5 #α\n",
    "gamma = 0.5 #γ\n",
    "epsilon = 0.3 #ε\n",
    "episodeMax = 1000\n",
    "num_columns = 4\n",
    "num_rows = 5"
   ]
  },
  {
   "cell_type": "code",
   "execution_count": null,
   "id": "c9ea5ab2",
   "metadata": {},
   "outputs": [],
   "source": [
    "grid = [[1, 2, 3, 4],\n",
    "        [5, 6, 7, 8],\n",
    "        [9, 10, 11, 12],\n",
    "        [13, 14, 15, 16],\n",
    "        [17, 18, 19, 20]]"
   ]
  },
  {
   "cell_type": "code",
   "execution_count": null,
   "id": "6d540388",
   "metadata": {},
   "outputs": [],
   "source": [
    "q_table[square][direction] = q_table[square][direction] + alpha * (reward + gamma * max(q_table[newSquare]) - q_table[square][direction])"
   ]
  },
  {
   "cell_type": "code",
   "execution_count": null,
   "id": "a10f250d",
   "metadata": {},
   "outputs": [],
   "source": [
    "(q_table[square][0] == q_table[square][1]) and (q_table[square][2] == q_table[square][3])"
   ]
  },
  {
   "cell_type": "code",
   "execution_count": null,
   "id": "b859c8b6",
   "metadata": {},
   "outputs": [],
   "source": [
    "def find_row_col(grid, value):\n",
    "    for row_index, row in enumerate(grid):\n",
    "        if value in row:\n",
    "            col_index = row.index(value)\n",
    "            return row_index, col_index"
   ]
  },
  {
   "cell_type": "code",
   "execution_count": null,
   "id": "5a7aecc7",
   "metadata": {},
   "outputs": [],
   "source": [
    "q_table = create_Q_table()\n",
    "for i in range(episodeMax):#looping through episodes\n",
    "    terminal = False\n",
    "    observation, info = env.reset()\n",
    "    square = 0\n",
    "    while(not terminal):\n",
    "        allSame = (q_table[square][0] == q_table[square][1]) and (q_table[square][2] == q_table[square][3])\n",
    "        if(random.randint(0, 10) > epsilon * 10 and not allSame): #check if all values are same \n",
    "            direction = max(q_table[square])\n",
    "        else:\n",
    "            direction = random.randint(0, 3)\n",
    "        row, col = find_row_col(grid, square+1)  \n",
    "        if(direction == 0 and col == 0):\n",
    "            continue\n",
    "        elif(direction == 1 and row == 4):\n",
    "            continue\n",
    "        elif(direction == 2 and col == 3):\n",
    "            continue\n",
    "        elif(direction == 3 and row == 0):\n",
    "            continue\n",
    "        arr = env.step(direction)\n",
    "        newSquare = arr[0]\n",
    "        reward = arr[1]\n",
    "        q_table[square][direction] = q_table[square][direction] + alpha * (reward + gamma * q_table[newSquare][max(q_table[newSquare])] - q_table[square][direction])\n",
    "        terminal = arr[2]\n",
    "        square = newSquare\n",
    "        if(reward == 1):\n",
    "            print(\"got reward!\")\n",
    "q_table"
   ]
  },
  {
   "cell_type": "code",
   "execution_count": null,
   "id": "f674f20c",
   "metadata": {},
   "outputs": [],
   "source": []
  }
 ],
 "metadata": {
  "kernelspec": {
   "display_name": "Python 3 (ipykernel)",
   "language": "python",
   "name": "python3"
  },
  "language_info": {
   "codemirror_mode": {
    "name": "ipython",
    "version": 3
   },
   "file_extension": ".py",
   "mimetype": "text/x-python",
   "name": "python",
   "nbconvert_exporter": "python",
   "pygments_lexer": "ipython3",
   "version": "3.9.13"
  }
 },
 "nbformat": 4,
 "nbformat_minor": 5
}
