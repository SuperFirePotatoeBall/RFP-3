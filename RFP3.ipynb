{
 "cells": [
  {
   "cell_type": "code",
   "execution_count": 1,
   "id": "e90f3739",
   "metadata": {
    "scrolled": false
   },
   "outputs": [
    {
     "name": "stdout",
     "output_type": "stream",
     "text": [
      "Requirement already satisfied: gymnasium in c:\\users\\nathu\\anaconda3\\lib\\site-packages (0.29.1)\n",
      "Requirement already satisfied: renderlab in c:\\users\\nathu\\anaconda3\\lib\\site-packages (0.1.20230421184216)\n",
      "Requirement already satisfied: numpy>=1.21.0 in c:\\users\\nathu\\anaconda3\\lib\\site-packages (from gymnasium) (1.24.3)\n",
      "Requirement already satisfied: cloudpickle>=1.2.0 in c:\\users\\nathu\\anaconda3\\lib\\site-packages (from gymnasium) (2.2.1)\n",
      "Requirement already satisfied: typing-extensions>=4.3.0 in c:\\users\\nathu\\anaconda3\\lib\\site-packages (from gymnasium) (4.7.1)\n",
      "Requirement already satisfied: farama-notifications>=0.0.1 in c:\\users\\nathu\\anaconda3\\lib\\site-packages (from gymnasium) (0.0.4)\n",
      "Requirement already satisfied: moviepy in c:\\users\\nathu\\anaconda3\\lib\\site-packages (from renderlab) (1.0.3)\n",
      "Requirement already satisfied: decorator<5.0,>=4.0.2 in c:\\users\\nathu\\anaconda3\\lib\\site-packages (from moviepy->renderlab) (4.4.2)\n",
      "Requirement already satisfied: tqdm<5.0,>=4.11.2 in c:\\users\\nathu\\anaconda3\\lib\\site-packages (from moviepy->renderlab) (4.65.0)\n",
      "Requirement already satisfied: requests<3.0,>=2.8.1 in c:\\users\\nathu\\anaconda3\\lib\\site-packages (from moviepy->renderlab) (2.31.0)\n",
      "Requirement already satisfied: proglog<=1.0.0 in c:\\users\\nathu\\anaconda3\\lib\\site-packages (from moviepy->renderlab) (0.1.10)\n",
      "Requirement already satisfied: imageio<3.0,>=2.5 in c:\\users\\nathu\\anaconda3\\lib\\site-packages (from moviepy->renderlab) (2.26.0)\n",
      "Requirement already satisfied: imageio-ffmpeg>=0.2.0 in c:\\users\\nathu\\anaconda3\\lib\\site-packages (from moviepy->renderlab) (0.4.9)\n",
      "Requirement already satisfied: pillow>=8.3.2 in c:\\users\\nathu\\anaconda3\\lib\\site-packages (from imageio<3.0,>=2.5->moviepy->renderlab) (10.0.1)\n",
      "Requirement already satisfied: setuptools in c:\\users\\nathu\\anaconda3\\lib\\site-packages (from imageio-ffmpeg>=0.2.0->moviepy->renderlab) (68.0.0)\n",
      "Requirement already satisfied: charset-normalizer<4,>=2 in c:\\users\\nathu\\anaconda3\\lib\\site-packages (from requests<3.0,>=2.8.1->moviepy->renderlab) (2.0.4)\n",
      "Requirement already satisfied: idna<4,>=2.5 in c:\\users\\nathu\\anaconda3\\lib\\site-packages (from requests<3.0,>=2.8.1->moviepy->renderlab) (3.4)\n",
      "Requirement already satisfied: urllib3<3,>=1.21.1 in c:\\users\\nathu\\anaconda3\\lib\\site-packages (from requests<3.0,>=2.8.1->moviepy->renderlab) (1.26.16)\n",
      "Requirement already satisfied: certifi>=2017.4.17 in c:\\users\\nathu\\anaconda3\\lib\\site-packages (from requests<3.0,>=2.8.1->moviepy->renderlab) (2023.11.17)\n",
      "Requirement already satisfied: colorama in c:\\users\\nathu\\anaconda3\\lib\\site-packages (from tqdm<5.0,>=4.11.2->moviepy->renderlab) (0.4.6)\n"
     ]
    }
   ],
   "source": [
    "!pip install gymnasium renderlab"
   ]
  },
  {
   "cell_type": "code",
   "execution_count": 2,
   "id": "7651e9df",
   "metadata": {},
   "outputs": [
    {
     "name": "stdout",
     "output_type": "stream",
     "text": [
      "Requirement already satisfied: opencv-python in c:\\users\\nathu\\anaconda3\\lib\\site-packages (4.9.0.80)\n",
      "Requirement already satisfied: numpy>=1.21.2 in c:\\users\\nathu\\anaconda3\\lib\\site-packages (from opencv-python) (1.24.3)\n"
     ]
    }
   ],
   "source": [
    "!pip install opencv-python"
   ]
  },
  {
   "cell_type": "code",
   "execution_count": 3,
   "id": "c1aaaadf",
   "metadata": {},
   "outputs": [],
   "source": [
    "import gymnasium as gym"
   ]
  },
  {
   "cell_type": "code",
   "execution_count": 22,
   "id": "8be0f1cf",
   "metadata": {},
   "outputs": [],
   "source": [
    "desc=[\"SFFF\", \"FHHH\", \"FFFF\", \"HFHF\", \"FFGF\"]\n",
    "\n",
    "env = gym.make('FrozenLake-v1', desc=desc, map_name=\"5x5\", is_slippery=False, render_mode=\"human\") \n",
    "observation, info = env.reset()"
   ]
  },
  {
   "cell_type": "code",
   "execution_count": 9,
   "id": "78efa924",
   "metadata": {},
   "outputs": [
    {
     "name": "stdout",
     "output_type": "stream",
     "text": [
      "[[0. 0. 0. 0.]\n",
      " [0. 0. 0. 0.]\n",
      " [0. 0. 0. 0.]\n",
      " [0. 0. 0. 0.]\n",
      " [0. 0. 0. 0.]\n",
      " [0. 0. 0. 0.]\n",
      " [0. 0. 0. 0.]\n",
      " [0. 0. 0. 0.]\n",
      " [0. 0. 0. 0.]\n",
      " [0. 0. 0. 0.]\n",
      " [0. 0. 0. 0.]\n",
      " [0. 0. 0. 0.]\n",
      " [0. 0. 0. 0.]\n",
      " [0. 0. 0. 0.]\n",
      " [0. 0. 0. 0.]\n",
      " [0. 0. 0. 0.]\n",
      " [0. 0. 0. 0.]\n",
      " [0. 0. 0. 0.]\n",
      " [0. 0. 0. 0.]]\n"
     ]
    }
   ],
   "source": [
    "import numpy as np\n",
    "\n",
    "# Define the number of states and actions\n",
    "num_states = 19\n",
    "num_actions = 4\n",
    "\n",
    "# Initialize the Q-table with zeros\n",
    "Q_table = np.zeros((num_states, num_actions))\n",
    "\n",
    "print(Q_table)\n"
   ]
  },
  {
   "cell_type": "code",
   "execution_count": 11,
   "id": "216d4656",
   "metadata": {},
   "outputs": [
    {
     "data": {
      "text/plain": [
       "(0, 0.0, False, False, {'prob': 1.0})"
      ]
     },
     "execution_count": 11,
     "metadata": {},
     "output_type": "execute_result"
    }
   ],
   "source": [
    "env.step(0)#left"
   ]
  },
  {
   "cell_type": "code",
   "execution_count": 16,
   "id": "cb2a1f99",
   "metadata": {},
   "outputs": [
    {
     "data": {
      "text/plain": [
       "(17, 0.0, False, False, {'prob': 1.0})"
      ]
     },
     "execution_count": 16,
     "metadata": {},
     "output_type": "execute_result"
    }
   ],
   "source": [
    "env.step(1)#Down"
   ]
  },
  {
   "cell_type": "code",
   "execution_count": 17,
   "id": "8584eb55",
   "metadata": {},
   "outputs": [
    {
     "data": {
      "text/plain": [
       "(18, 1.0, True, False, {'prob': 1.0})"
      ]
     },
     "execution_count": 17,
     "metadata": {},
     "output_type": "execute_result"
    }
   ],
   "source": [
    "env.step(2)#right"
   ]
  },
  {
   "cell_type": "code",
   "execution_count": 19,
   "id": "6f86e1a7",
   "metadata": {},
   "outputs": [
    {
     "data": {
      "text/plain": [
       "(18, 0, True, False, {'prob': 1.0})"
      ]
     },
     "execution_count": 19,
     "metadata": {},
     "output_type": "execute_result"
    }
   ],
   "source": [
    "env.step(3)#up"
   ]
  },
  {
   "cell_type": "code",
   "execution_count": 20,
   "id": "9761fdd1",
   "metadata": {},
   "outputs": [],
   "source": [
    "obserbation, info = env.reset()"
   ]
  },
  {
   "cell_type": "code",
   "execution_count": 21,
   "id": "d7682b27",
   "metadata": {},
   "outputs": [],
   "source": [
    "env.close()"
   ]
  },
  {
   "cell_type": "code",
   "execution_count": 23,
   "id": "e7ce9552",
   "metadata": {},
   "outputs": [],
   "source": [
    "alpha = 0.7\n",
    "gamma = 0.7\n",
    "epsilon = 0.5\n",
    "episodeMax = 10"
   ]
  },
  {
   "cell_type": "code",
   "execution_count": null,
   "id": "5913d4ec",
   "metadata": {},
   "outputs": [],
   "source": []
  }
 ],
 "metadata": {
  "kernelspec": {
   "display_name": "Python 3 (ipykernel)",
   "language": "python",
   "name": "python3"
  },
  "language_info": {
   "codemirror_mode": {
    "name": "ipython",
    "version": 3
   },
   "file_extension": ".py",
   "mimetype": "text/x-python",
   "name": "python",
   "nbconvert_exporter": "python",
   "pygments_lexer": "ipython3",
   "version": "3.11.5"
  }
 },
 "nbformat": 4,
 "nbformat_minor": 5
}
