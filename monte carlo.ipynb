{
 "cells": [
  {
   "cell_type": "code",
   "execution_count": 2,
   "id": "73a5858d",
   "metadata": {},
   "outputs": [
    {
     "name": "stdout",
     "output_type": "stream",
     "text": [
      "Defaulting to user installation because normal site-packages is not writeable\n",
      "Requirement already satisfied: gymnasium in c:\\users\\shatchiv\\appdata\\roaming\\python\\python39\\site-packages (0.29.1)\n",
      "Requirement already satisfied: renderlab in c:\\users\\shatchiv\\appdata\\roaming\\python\\python39\\site-packages (0.1.20230421184216)\n",
      "Requirement already satisfied: cloudpickle>=1.2.0 in c:\\programdata\\anaconda3\\lib\\site-packages (from gymnasium) (2.0.0)\n",
      "Requirement already satisfied: typing-extensions>=4.3.0 in c:\\programdata\\anaconda3\\lib\\site-packages (from gymnasium) (4.3.0)\n",
      "Requirement already satisfied: importlib-metadata>=4.8.0 in c:\\programdata\\anaconda3\\lib\\site-packages (from gymnasium) (4.11.3)\n",
      "Requirement already satisfied: farama-notifications>=0.0.1 in c:\\users\\shatchiv\\appdata\\roaming\\python\\python39\\site-packages (from gymnasium) (0.0.4)\n",
      "Requirement already satisfied: numpy>=1.21.0 in c:\\programdata\\anaconda3\\lib\\site-packages (from gymnasium) (1.21.5)\n",
      "Requirement already satisfied: moviepy in c:\\users\\shatchiv\\appdata\\roaming\\python\\python39\\site-packages (from renderlab) (1.0.3)\n",
      "Requirement already satisfied: zipp>=0.5 in c:\\programdata\\anaconda3\\lib\\site-packages (from importlib-metadata>=4.8.0->gymnasium) (3.8.0)\n",
      "Requirement already satisfied: tqdm<5.0,>=4.11.2 in c:\\programdata\\anaconda3\\lib\\site-packages (from moviepy->renderlab) (4.64.1)\n",
      "Requirement already satisfied: imageio-ffmpeg>=0.2.0 in c:\\users\\shatchiv\\appdata\\roaming\\python\\python39\\site-packages (from moviepy->renderlab) (0.4.9)\n",
      "Requirement already satisfied: proglog<=1.0.0 in c:\\users\\shatchiv\\appdata\\roaming\\python\\python39\\site-packages (from moviepy->renderlab) (0.1.10)\n",
      "Requirement already satisfied: imageio<3.0,>=2.5 in c:\\programdata\\anaconda3\\lib\\site-packages (from moviepy->renderlab) (2.19.3)\n",
      "Requirement already satisfied: requests<3.0,>=2.8.1 in c:\\programdata\\anaconda3\\lib\\site-packages (from moviepy->renderlab) (2.28.1)\n",
      "Requirement already satisfied: decorator<5.0,>=4.0.2 in c:\\users\\shatchiv\\appdata\\roaming\\python\\python39\\site-packages (from moviepy->renderlab) (4.4.2)\n",
      "Requirement already satisfied: pillow>=8.3.2 in c:\\programdata\\anaconda3\\lib\\site-packages (from imageio<3.0,>=2.5->moviepy->renderlab) (9.2.0)\n",
      "Requirement already satisfied: setuptools in c:\\programdata\\anaconda3\\lib\\site-packages (from imageio-ffmpeg>=0.2.0->moviepy->renderlab) (63.4.1)\n",
      "Requirement already satisfied: urllib3<1.27,>=1.21.1 in c:\\programdata\\anaconda3\\lib\\site-packages (from requests<3.0,>=2.8.1->moviepy->renderlab) (1.26.11)\n",
      "Requirement already satisfied: charset-normalizer<3,>=2 in c:\\programdata\\anaconda3\\lib\\site-packages (from requests<3.0,>=2.8.1->moviepy->renderlab) (2.0.4)\n",
      "Requirement already satisfied: idna<4,>=2.5 in c:\\programdata\\anaconda3\\lib\\site-packages (from requests<3.0,>=2.8.1->moviepy->renderlab) (3.3)\n",
      "Requirement already satisfied: certifi>=2017.4.17 in c:\\programdata\\anaconda3\\lib\\site-packages (from requests<3.0,>=2.8.1->moviepy->renderlab) (2022.9.14)\n",
      "Requirement already satisfied: colorama in c:\\programdata\\anaconda3\\lib\\site-packages (from tqdm<5.0,>=4.11.2->moviepy->renderlab) (0.4.5)\n"
     ]
    }
   ],
   "source": [
    "!pip install gymnasium renderlab"
   ]
  },
  {
   "cell_type": "code",
   "execution_count": 3,
   "id": "e6eecfe7",
   "metadata": {},
   "outputs": [
    {
     "name": "stdout",
     "output_type": "stream",
     "text": [
      "Defaulting to user installation because normal site-packages is not writeable\n",
      "Requirement already satisfied: opencv-python in c:\\users\\shatchiv\\appdata\\roaming\\python\\python39\\site-packages (4.9.0.80)\n",
      "Requirement already satisfied: numpy>=1.19.3 in c:\\programdata\\anaconda3\\lib\\site-packages (from opencv-python) (1.21.5)\n"
     ]
    }
   ],
   "source": [
    "!pip install opencv-python"
   ]
  },
  {
   "cell_type": "code",
   "execution_count": 4,
   "id": "e1ba3de5",
   "metadata": {},
   "outputs": [
    {
     "name": "stdout",
     "output_type": "stream",
     "text": [
      "Defaulting to user installation because normal site-packages is not writeable\n",
      "Requirement already satisfied: pygame in c:\\users\\shatchiv\\appdata\\roaming\\python\\python39\\site-packages (2.5.2)\n"
     ]
    }
   ],
   "source": [
    "!pip install pygame"
   ]
  },
  {
   "cell_type": "code",
   "execution_count": 1,
   "id": "5955345b",
   "metadata": {},
   "outputs": [
    {
     "name": "stderr",
     "output_type": "stream",
     "text": [
      "Warning: Gym version v0.24.0 has a number of critical issues with `gym.make` such that the `reset` and `step` functions are called before returning the environment. It is recommend to downgrading to v0.23.1 or upgrading to v0.25.1\n"
     ]
    }
   ],
   "source": [
    "import gym\n",
    "import numpy as np"
   ]
  },
  {
   "cell_type": "code",
   "execution_count": 15,
   "id": "79b428a6",
   "metadata": {},
   "outputs": [],
   "source": [
    "desc=[\"SFFF\", \"FHHH\", \"FFFF\", \"HFHF\", \"FFGF\"]\n",
    "env = gym.make('FrozenLake-v1', desc=desc, map_name=\"5x4\", is_slippery=False, render_mode=\"human\") \n",
    "observation, info = env.reset()"
   ]
  },
  {
   "cell_type": "code",
   "execution_count": 2,
   "id": "8d330943",
   "metadata": {},
   "outputs": [],
   "source": [
    "# Create Frozen Lake environment\n",
    "env = gym.make(\"FrozenLake-v1\")\n",
    "\n",
    "# Initialize Q-table\n",
    "Q = np.zeros([env.observation_space.n, env.action_space.n])"
   ]
  },
  {
   "cell_type": "code",
   "execution_count": 3,
   "id": "f0211b92",
   "metadata": {},
   "outputs": [],
   "source": [
    "# Hyperparameters\n",
    "num_episodes = 100\n",
    "max_steps_per_episode = 10\n",
    "learning_rate = 0.1\n",
    "gamma = 0.99"
   ]
  },
  {
   "cell_type": "code",
   "execution_count": 4,
   "id": "1e0666e2",
   "metadata": {},
   "outputs": [],
   "source": [
    "# Monte Carlo method\n",
    "for episode in range(num_episodes):\n",
    "    state = env.reset()\n",
    "    episode_rewards = []\n",
    "\n",
    "    # Generate episode\n",
    "    for step in range(max_steps_per_episode):\n",
    "        action = np.argmax(Q[state, :] + np.random.randn(1, env.action_space.n) * (1 / (episode + 1)))\n",
    "        next_state, reward, done, _ = env.step(action)\n",
    "        episode_rewards.append(reward)\n",
    "        \n",
    "        # Update Q-table\n",
    "        Q[state, action] = Q[state, action] + learning_rate * (sum(episode_rewards) - Q[state, action])\n",
    "        \n",
    "        state = next_state\n",
    "        \n",
    "        if done:\n",
    "            break"
   ]
  },
  {
   "cell_type": "code",
   "execution_count": 5,
   "id": "2085b084",
   "metadata": {},
   "outputs": [
    {
     "name": "stdout",
     "output_type": "stream",
     "text": [
      "Learned Q-table:\n",
      "[[0.  0.  0.  0. ]\n",
      " [0.  0.  0.  0. ]\n",
      " [0.  0.  0.  0. ]\n",
      " [0.  0.  0.  0. ]\n",
      " [0.  0.  0.  0. ]\n",
      " [0.  0.  0.  0. ]\n",
      " [0.  0.  0.  0. ]\n",
      " [0.  0.  0.  0. ]\n",
      " [0.  0.  0.  0. ]\n",
      " [0.  0.  0.  0. ]\n",
      " [0.  0.  0.  0. ]\n",
      " [0.  0.  0.  0. ]\n",
      " [0.  0.  0.  0. ]\n",
      " [0.  0.  0.  0. ]\n",
      " [0.  0.1 0.  0. ]\n",
      " [0.  0.  0.  0. ]]\n"
     ]
    }
   ],
   "source": [
    "# Print the learned Q-table\n",
    "print(\"Learned Q-table:\")\n",
    "print(Q)"
   ]
  },
  {
   "cell_type": "code",
   "execution_count": 6,
   "id": "70c5d14c",
   "metadata": {},
   "outputs": [],
   "source": [
    "# Test the learned policy\n",
    "total_rewards = 0\n",
    "num_episodes_test = 100\n",
    "for _ in range(num_episodes_test):\n",
    "    state = env.reset()\n",
    "    for _ in range(max_steps_per_episode):\n",
    "        action = np.argmax(Q[state, :])\n",
    "        state, reward, done, _ = env.step(action)\n",
    "        total_rewards += reward\n",
    "        if done:\n",
    "            break"
   ]
  },
  {
   "cell_type": "code",
   "execution_count": 7,
   "id": "f469802e",
   "metadata": {},
   "outputs": [
    {
     "name": "stdout",
     "output_type": "stream",
     "text": [
      "Average reward over 100 test episodes: 0.00\n"
     ]
    }
   ],
   "source": [
    "# Calculate average reward\n",
    "avg_reward = total_rewards / num_episodes_test\n",
    "print(\"Average reward over {} test episodes: {:.2f}\".format(num_episodes_test, avg_reward))\n"
   ]
  },
  {
   "cell_type": "code",
   "execution_count": null,
   "id": "7a37892f",
   "metadata": {},
   "outputs": [],
   "source": []
  }
 ],
 "metadata": {
  "kernelspec": {
   "display_name": "Python 3 (ipykernel)",
   "language": "python",
   "name": "python3"
  },
  "language_info": {
   "codemirror_mode": {
    "name": "ipython",
    "version": 3
   },
   "file_extension": ".py",
   "mimetype": "text/x-python",
   "name": "python",
   "nbconvert_exporter": "python",
   "pygments_lexer": "ipython3",
   "version": "3.9.13"
  }
 },
 "nbformat": 4,
 "nbformat_minor": 5
}
