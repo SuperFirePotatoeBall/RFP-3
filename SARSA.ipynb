{
 "cells": [
  {
   "cell_type": "code",
   "execution_count": 1,
   "id": "d4d27463",
   "metadata": {},
   "outputs": [],
   "source": [
    "import gymnasium as gym\n",
    "import random"
   ]
  },
  {
   "cell_type": "code",
   "execution_count": 2,
   "id": "bf09c06e",
   "metadata": {},
   "outputs": [],
   "source": [
    "desc=[\"SFFF\", \"FHHH\", \"FFFF\", \"HFHF\", \"FFGF\"]\n",
    "\n",
    "env = gym.make('FrozenLake-v1', desc=desc, map_name=\"5x5\", is_slippery=False)\n",
    "observation, info = env.reset()\n",
    "#step result:\n",
    "#(square, reward, end, idk, idk)"
   ]
  },
  {
   "cell_type": "code",
   "execution_count": null,
   "id": "07829ae2",
   "metadata": {},
   "outputs": [],
   "source": [
    "#panic switch\n",
    "env.close()"
   ]
  },
  {
   "cell_type": "code",
   "execution_count": 3,
   "id": "4000bdde",
   "metadata": {},
   "outputs": [],
   "source": [
    "def create_Q_table():\n",
    "    q_table = {}\n",
    "    # Populate Q-table with zeros for each state-action pair\n",
    "    for i in range(20):\n",
    "        q_table[i] = {0: 0, 1: 0, 2: 0, 3: 0}\n",
    "    return q_table\n",
    "        \n",
    "#L = 0, D = 1, R = 2, U = 3"
   ]
  },
  {
   "cell_type": "code",
   "execution_count": 4,
   "id": "87383ece",
   "metadata": {},
   "outputs": [],
   "source": [
    "#init vars\n",
    "alpha = 0.5 #α\n",
    "gamma = 0.5 #γ\n",
    "epsilon = 0.3 #ε\n",
    "episodeMax = 100000\n",
    "num_columns = 4\n",
    "num_rows = 5"
   ]
  },
  {
   "cell_type": "code",
   "execution_count": 5,
   "id": "c9ea5ab2",
   "metadata": {},
   "outputs": [],
   "source": [
    "grid = [[1, 2, 3, 4],\n",
    "        [5, 6, 7, 8],\n",
    "        [9, 10, 11, 12],\n",
    "        [13, 14, 15, 16],\n",
    "        [17, 18, 19, 20]]"
   ]
  },
  {
   "cell_type": "code",
   "execution_count": null,
   "id": "6d540388",
   "metadata": {},
   "outputs": [],
   "source": [
    "#q_table[square][direction] = q_table[square][direction] + alpha * (reward + gamma * my_max(q_table[newSquare]) - q_table[square][direction])"
   ]
  },
  {
   "cell_type": "code",
   "execution_count": null,
   "id": "a10f250d",
   "metadata": {},
   "outputs": [],
   "source": [
    "#(q_table[square][0] == q_table[square][1]) and (q_table[square][2] == q_table[square][3])"
   ]
  },
  {
   "cell_type": "code",
   "execution_count": 6,
   "id": "b859c8b6",
   "metadata": {},
   "outputs": [],
   "source": [
    "def find_row_col(grid, value):\n",
    "    for row_index, row in enumerate(grid):\n",
    "        if value in row:\n",
    "            col_index = row.index(value)\n",
    "            return row_index, col_index"
   ]
  },
  {
   "cell_type": "code",
   "execution_count": 7,
   "id": "830129eb",
   "metadata": {},
   "outputs": [],
   "source": [
    "def my_max(table):\n",
    "    #{0: 0, 1: 0.0, 2: 0.0, 3: 0}\n",
    "    maxNum = table[0]\n",
    "    maxID = 0\n",
    "    for i in range(1,4):\n",
    "        num = table[i]\n",
    "        if(num > maxNum):\n",
    "            maxNum = num\n",
    "            maxID = i\n",
    "    return maxID"
   ]
  },
  {
   "cell_type": "code",
   "execution_count": 8,
   "id": "cc2e78ad",
   "metadata": {},
   "outputs": [],
   "source": [
    "def getNextMove(square):\n",
    "    allSame = (q_table[square][0] == q_table[square][1]) and (q_table[square][2] == q_table[square][3])\n",
    "    if(random.randint(0, 10) > epsilon * 10 and not allSame): #check if all values are same \n",
    "        direction = my_max(q_table[square])\n",
    "    else:\n",
    "        direction = random.randint(0, 3)\n",
    "    row, col = find_row_col(grid, square+1)  \n",
    "    if(direction == 0 and col == 0):\n",
    "        return getNextMove(square)\n",
    "    elif(direction == 1 and row == 4):\n",
    "        return getNextMove(square)\n",
    "    elif(direction == 2 and col == 3):\n",
    "        return getNextMove(square)\n",
    "    elif(direction == 3 and row == 0):\n",
    "        return getNextMove(square)\n",
    "    return direction"
   ]
  },
  {
   "cell_type": "code",
   "execution_count": 28,
   "id": "5a7aecc7",
   "metadata": {},
   "outputs": [
    {
     "data": {
      "text/plain": [
       "{0: {0: 0, 1: 0.009818828057656737, 2: 0.0027793514268357015, 3: 0},\n",
       " 1: {0: 0.004709356758975387, 1: 0.0, 2: 0.0004352725595760529, 3: 0},\n",
       " 2: {0: 0.0012090715979762314, 1: 0.0, 2: 0.0003164081171728511, 3: 0},\n",
       " 3: {0: 0.000582884218996947, 1: 0.0, 2: 0, 3: 0},\n",
       " 4: {0: 0, 1: 0.01764456610301563, 2: 0.0, 3: 0.004022491894216959},\n",
       " 5: {0: 0, 1: 0, 2: 0, 3: 0},\n",
       " 6: {0: 0, 1: 0, 2: 0, 3: 0},\n",
       " 7: {0: 0, 1: 0, 2: 0, 3: 0},\n",
       " 8: {0: 0, 1: 0.0, 2: 0.051335468208117935, 3: 0.00946092816698807},\n",
       " 9: {0: 0.0019590918707080803,\n",
       "  1: 0.16663754221152266,\n",
       "  2: 0.040392332945781144,\n",
       "  3: 0.0},\n",
       " 10: {0: 0.07472769117138842, 1: 0.0, 2: 0.1175577875349837, 3: 0.0},\n",
       " 11: {0: 0.013605539759601545, 1: 0.24934957212831746, 2: 0, 3: 0.0},\n",
       " 12: {0: 0, 1: 0, 2: 0, 3: 0},\n",
       " 13: {0: 0.0, 1: 0.4945626726570651, 2: 0.0, 3: 0.04274185560164845},\n",
       " 14: {0: 0, 1: 0, 2: 0, 3: 0},\n",
       " 15: {0: 0.0, 1: 0.4999777215807756, 2: 0, 3: 0.061638372195750885},\n",
       " 16: {0: 0, 1: 0, 2: 0.4356057584889594, 3: 0.0},\n",
       " 17: {0: 0.11981404396973809, 1: 0, 2: 1.0, 3: 0.05978786348486713},\n",
       " 18: {0: 0, 1: 0, 2: 0, 3: 0},\n",
       " 19: {0: 1.0, 1: 0, 2: 0, 3: 0.051438034238374834}}"
      ]
     },
     "execution_count": 28,
     "metadata": {},
     "output_type": "execute_result"
    }
   ],
   "source": [
    "q_table = create_Q_table()\n",
    "for i in range(episodeMax):#looping through episodes\n",
    "    terminal = False\n",
    "    observation, info = env.reset()\n",
    "    square = 0\n",
    "    nextMove = getNextMove(square)\n",
    "    while(not terminal):\n",
    "        direction = nextMove\n",
    "        arr = env.step(direction)\n",
    "        newSquare = arr[0]\n",
    "        reward = arr[1]\n",
    "        nextMove = getNextMove(newSquare)\n",
    "        q_table[square][direction] = q_table[square][direction] + alpha * (reward + gamma * q_table[newSquare][nextMove] - q_table[square][direction])\n",
    "        terminal = arr[2]\n",
    "        square = newSquare\n",
    "q_table"
   ]
  },
  {
   "cell_type": "code",
   "execution_count": 20,
   "id": "ed78af93",
   "metadata": {},
   "outputs": [],
   "source": [
    "env.close()"
   ]
  },
  {
   "cell_type": "code",
   "execution_count": 29,
   "id": "42da4b24",
   "metadata": {},
   "outputs": [],
   "source": [
    "envTwo = gym.make('FrozenLake-v1', desc=desc, map_name=\"5x5\", is_slippery=False, render_mode=\"human\")\n",
    "observation, info = envTwo.reset()"
   ]
  },
  {
   "cell_type": "code",
   "execution_count": 30,
   "id": "f674f20c",
   "metadata": {},
   "outputs": [],
   "source": [
    "observation, info = envTwo.reset()\n",
    "terminal = False\n",
    "square = 0\n",
    "while(not terminal):\n",
    "    allSame = (q_table[square][0] == q_table[square][1]) and (q_table[square][2] == q_table[square][3])\n",
    "    if(not allSame): #check if all values are same \n",
    "        direction = my_max(q_table[square])\n",
    "    else:\n",
    "        direction = random.randint(0, 3)\n",
    "    row, col = find_row_col(grid, square+1)  \n",
    "    if(direction == 0 and col == 0):\n",
    "        continue\n",
    "    elif(direction == 1 and row == 4):\n",
    "        continue\n",
    "    elif(direction == 2 and col == 3):\n",
    "        continue\n",
    "    elif(direction == 3 and row == 0):\n",
    "        continue\n",
    "    arr = envTwo.step(direction)\n",
    "    newSquare = arr[0]\n",
    "    reward = arr[1]\n",
    "    terminal = arr[2]\n",
    "    square = newSquare"
   ]
  },
  {
   "cell_type": "code",
   "execution_count": 31,
   "id": "05b07735",
   "metadata": {},
   "outputs": [],
   "source": [
    "envTwo.close()"
   ]
  },
  {
   "cell_type": "code",
   "execution_count": null,
   "id": "fcf524cf",
   "metadata": {},
   "outputs": [],
   "source": []
  }
 ],
 "metadata": {
  "kernelspec": {
   "display_name": "Python 3 (ipykernel)",
   "language": "python",
   "name": "python3"
  },
  "language_info": {
   "codemirror_mode": {
    "name": "ipython",
    "version": 3
   },
   "file_extension": ".py",
   "mimetype": "text/x-python",
   "name": "python",
   "nbconvert_exporter": "python",
   "pygments_lexer": "ipython3",
   "version": "3.9.13"
  }
 },
 "nbformat": 4,
 "nbformat_minor": 5
}
